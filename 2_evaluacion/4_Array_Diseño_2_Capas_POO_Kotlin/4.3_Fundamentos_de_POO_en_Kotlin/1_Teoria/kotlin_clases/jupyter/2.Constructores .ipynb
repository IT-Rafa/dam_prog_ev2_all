{
 "cells": [
  {
   "cell_type": "markdown",
   "metadata": {
    "datalore": {
     "hide_input_from_viewers": false,
     "hide_output_from_viewers": false,
     "node_id": "AukJgQPAhqr7uIvQFTJP9F",
     "type": "MD"
    }
   },
   "source": [
    "# Constructores Kotlin\n",
    "\n",
    "Un constructor es una función miembro especial que se invoca automáticamente cuando se crea un objeto de la clase. Su objetivo  principal es  inicializar propiedades y otras variables. Una clase debe tener un constructor y, si no declaramos ningún  constructor, el compilador genera un constructor predeterminado.\n",
    "\n",
    "Kotlin tiene dos tipos de constructores: \n",
    "\n",
    "- Constructor principal o primario\n",
    "- Constructor secundario \n",
    " \n",
    "Una clase en Kotlin puede tener como máximo un constructor principal y uno o más constructores secundarios. El constructor principal se utiliza cuando  simplemente queremos hacer asignaciones de valores a las propiedades. El constructor secundario se usa cuando se requiere hacer las inicializaciones con  algo de lógica adicional.\n",
    "\n",
    "\n",
    " "
   ]
  },
  {
   "cell_type": "markdown",
   "metadata": {
    "datalore": {
     "hide_input_from_viewers": false,
     "hide_output_from_viewers": false,
     "node_id": "uMYXpgwM3G4OkuNjrwSOlc",
     "type": "MD"
    }
   },
   "source": [
    "## El constructor predeterminado\n",
    "En el ejemplo que sigue, la clase Persona no define ningún constructor y por tanto  se puede utilizar el constructor predeterminado para crear un objeto de esa clase. El constructor predeterminado se invoca con el nombre de la clase seguido de parentesis vacios."
   ]
  },
  {
   "cell_type": "code",
   "execution_count": 5,
   "metadata": {
    "datalore": {
     "hide_input_from_viewers": false,
     "hide_output_from_viewers": false,
     "node_id": "odxxdWuy0fj6cmrCdFp45Z",
     "type": "CODE"
    }
   },
   "outputs": [
    {
     "name": "stdout",
     "output_type": "stream",
     "text": [
      "soy yo y tengo 22 años"
     ]
    }
   ],
   "source": [
    "class Persona{\n",
    "    val nombre:String=\"yo\"\n",
    "    val edad:Int=22\n",
    "}\n",
    "val p=Persona()//usando constructor predeterminado\n",
    "\n",
    "print(\"soy ${p.nombre} y tengo ${p.edad} años\")"
   ]
  },
  {
   "cell_type": "markdown",
   "metadata": {
    "datalore": {
     "hide_input_from_viewers": false,
     "hide_output_from_viewers": false,
     "node_id": "qy4ynP0HkqPfAuQv8i5JQS",
     "type": "MD"
    }
   },
   "source": [
    "## El constructor principal\n",
    "Hay unas cuantas variantes sintácticas a la hora de escribir un constructor principal. Nos centramos en lo más básico.\n",
    "\n",
    "El constructor principal se escribe simplemente indicando despues del nombre de la clase la palabra clave *constructor*, y a continuación entre paréntesis, un conjunto de parámetros  separados por comas. \n",
    "\n",
    "Lo más habitual y simple es que los parámetros sean variables. La  definición  de las variables puede hacerse con *val/var* o sin *val/var*. Si queremos que los parámetros definan al mismo tiempo propiedades es necesario hacerlo con *var/val* Es decir, en este caso el uso de *var/val* convierte a un parámetro  variable en propiedad de la clase. Los parámetros también pueden ser funciones pero no ejemplificamos por el momento este caso para simplificar."
   ]
  },
  {
   "cell_type": "code",
   "execution_count": 8,
   "metadata": {
    "datalore": {
     "hide_input_from_viewers": false,
     "hide_output_from_viewers": false,
     "node_id": "PPjacUEypzqtS3TFhDsCDp",
     "type": "CODE"
    }
   },
   "outputs": [
    {
     "name": "stdout",
     "output_type": "stream",
     "text": [
      "yo\n",
      "chuchy@gmail.com\n",
      "yo 15\n",
      "tu 35\n"
     ]
    }
   ],
   "source": [
    "class Persona constructor(var nombre:String, var edad:Int){\n",
    "   //nombre y edad son propiedades definidas en el constructor principal\n",
    "   var email=\"chuchy@gmail.com\" //propiedad no definida en constructor principal\n",
    "   fun printMe() {\n",
    "      println(nombre+ \" \" + edad)\n",
    "   }\n",
    "} \n",
    "val p1 = Persona(\"yo\",15)\n",
    "println(p1.nombre)//nombre es una propiedad y utilizamos el punto para acceder a ella\n",
    "println(p1.email)//email también es una propiedad aunque se declaro fuera del constructor principal\n",
    "p1.printMe() \n",
    "val p2 = Persona(\"tu\",35) \n",
    "p2.printMe() "
   ]
  },
  {
   "cell_type": "markdown",
   "metadata": {
    "datalore": {
     "hide_input_from_viewers": false,
     "hide_output_from_viewers": false,
     "node_id": "7D71i7qCQ9sPG8SlkQGRWL",
     "type": "MD"
    }
   },
   "source": [
    "La palabra clave  *constructor* se puede omitir si no hay anotaciones o modificadores de acceso especificados como público, privado o protegido."
   ]
  },
  {
   "cell_type": "code",
   "execution_count": 3,
   "metadata": {
    "datalore": {
     "hide_input_from_viewers": false,
     "hide_output_from_viewers": false,
     "node_id": "fVdBz0fxsMdjUJR1GuL5or",
     "type": "CODE"
    }
   },
   "outputs": [
    {
     "name": "stdout",
     "output_type": "stream",
     "text": [
      "yo 15\n",
      "tu 35\n"
     ]
    }
   ],
   "source": [
    "class Persona (var nombre:String, var edad:Int){\n",
    "   fun printMe() {\n",
    "      println(nombre+ \" \" + edad)\n",
    "   }\n",
    "} \n",
    "val p1 = Persona(\"yo\",15) \n",
    "p1.printMe() \n",
    "val p2 = Persona(\"tu\",35) \n",
    "p2.printMe() "
   ]
  },
  {
   "cell_type": "markdown",
   "metadata": {
    "datalore": {
     "hide_input_from_viewers": false,
     "hide_output_from_viewers": false,
     "node_id": "Kodoj2ouUFK0w6IOqTRsP1",
     "type": "MD"
    }
   },
   "source": [
    "Se pueden inicializar los parámetros del constructor con  valores predeterminados. "
   ]
  },
  {
   "cell_type": "code",
   "execution_count": 17,
   "metadata": {
    "datalore": {
     "hide_input_from_viewers": false,
     "hide_output_from_viewers": false,
     "node_id": "w15jHYITgOvsZgmtFtOaCn",
     "type": "CODE"
    }
   },
   "outputs": [
    {
     "name": "stdout",
     "output_type": "stream",
     "text": [
      "yo 90\n",
      "tu 35\n"
     ]
    }
   ],
   "source": [
    "class Persona (var nombre:String, var edad:Int=90){\n",
    "   fun printMe() {\n",
    "      println(nombre+ \" \" + edad)\n",
    "   }\n",
    "} \n",
    "val p1 = Persona(\"yo\") \n",
    "p1.printMe() \n",
    "val p2 = Persona(\"tu\",35) \n",
    "p2.printMe() "
   ]
  },
  {
   "cell_type": "markdown",
   "metadata": {
    "datalore": {
     "hide_input_from_viewers": false,
     "hide_output_from_viewers": false,
     "node_id": "HTTvzbXcQ9m9GKd85MtE2s",
     "type": "MD"
    }
   },
   "source": [
    "### parametros que no son propiedades\n",
    "Sí no indicamos en los paréntesis del constructor los parámetros con val/var entonces es que preferimos  definir dentro de la clase las propiedades y entre los paréntesis simplemente se indican variables que no tienen el rango de propiedades de la clase.\n"
   ]
  },
  {
   "cell_type": "code",
   "execution_count": 5,
   "metadata": {
    "datalore": {
     "hide_input_from_viewers": false,
     "hide_output_from_viewers": false,
     "node_id": "1glwjLXMRmlBnK3ICYVPoU",
     "type": "CODE"
    }
   },
   "outputs": [
    {
     "name": "stdout",
     "output_type": "stream",
     "text": [
      "yo 15\n",
      "tu 35\n"
     ]
    }
   ],
   "source": [
    "class Persona (elnombre:String, laedad:Int){\n",
    "   var nombre=elnombre\n",
    "   var edad=laedad \n",
    "   fun printMe() {\n",
    "      println(nombre+ \" \" + edad)\n",
    "   }\n",
    "} \n",
    "val p1 = Persona(\"yo\",15) \n",
    "p1.printMe() \n",
    "val p2 = Persona(\"tu\",35) \n",
    "p2.printMe() "
   ]
  },
  {
   "cell_type": "markdown",
   "metadata": {
    "datalore": {
     "hide_input_from_viewers": false,
     "hide_output_from_viewers": false,
     "node_id": "XPXotecA7UBvVdmOl2xnh2",
     "type": "MD"
    }
   },
   "source": [
    "## Bloques init\n",
    "El constructor principal simplemente tiene capacidad para hacer asignaciones de valores a variables. Podemos añadir lógica a la inicialización con un bloque *init*. Puede haber más de un bloque de inicialización  durante la inicialización de una instancia, los bloques de inicialización se ejecutan en el mismo orden en que aparecen en el cuerpo de la clase."
   ]
  },
  {
   "cell_type": "code",
   "execution_count": 6,
   "metadata": {
    "datalore": {
     "hide_input_from_viewers": false,
     "hide_output_from_viewers": false,
     "node_id": "E03OOyYYixeJvN5lVC1S4t",
     "type": "CODE"
    }
   },
   "outputs": [
    {
     "name": "stdout",
     "output_type": "stream",
     "text": [
      "Segundo init\n",
      "yo 0\n",
      "Segundo init\n",
      "tu 35\n"
     ]
    }
   ],
   "source": [
    "class Persona (var nombre:String, var edad:Int){\n",
    "   init{\n",
    "       if(edad<0) edad=0\n",
    "   } \n",
    "   init{\n",
    "       println(\"Segundo init\")\n",
    "   }   \n",
    "   fun printMe() {\n",
    "      println(nombre+ \" \" + edad)\n",
    "   }\n",
    "} \n",
    "val p1 = Persona(\"yo\",-15) \n",
    "p1.printMe() \n",
    "val p2 = Persona(\"tu\",35) \n",
    "p2.printMe() "
   ]
  },
  {
   "cell_type": "markdown",
   "metadata": {
    "datalore": {
     "hide_input_from_viewers": false,
     "hide_output_from_viewers": false,
     "node_id": "BLf46O26I8bXo8H5WA3x7Y",
     "type": "MD"
    }
   },
   "source": [
    "### un uso típico de *this*\n",
    "Indicamos que progresivamente iran saliendo casos que precisan el uso de *this*. Un caso muy habitual es que coincidan los nombres de los parámetros con los nombres de las propiedades. En este caso, el nombre del parámetro oculta al de la propiedad por lo que para referirnos a la propiedad debemos de utilizar la palabra reserva *this*.\n",
    "\n",
    "En el siguiente ejemplo decidimos definir las propiedades dentro de la clase, no  através de los parámetros. Observa que los parámetros del constructor no llevan var/val. Además, también a proposito, decidimos que coincidan los nombres de los parámetros y las propiedades. Inevitablemente, necesitamos usar this para referirnos a las propiedades."
   ]
  },
  {
   "cell_type": "code",
   "execution_count": 4,
   "metadata": {
    "datalore": {
     "hide_input_from_viewers": false,
     "hide_output_from_viewers": false,
     "node_id": "JRfAc6y43iDTP5JaRqUrxV",
     "type": "CODE"
    }
   },
   "outputs": [
    {
     "name": "stdout",
     "output_type": "stream",
     "text": [
      "yo 0\n",
      "tu 35\n"
     ]
    }
   ],
   "source": [
    "class Persona (nombre:String,edad:Int){\n",
    "   var nombre:String\n",
    "   var edad:Int \n",
    "   init{\n",
    "       this.nombre=nombre\n",
    "       this.edad=edad\n",
    "       if(this.edad<0) this.edad=0\n",
    "   } \n",
    "    \n",
    "   fun printMe() {\n",
    "      println(nombre+ \" \" + edad)\n",
    "   }\n",
    "} \n",
    "val p1 = Persona(\"yo\",-15) \n",
    "p1.printMe() \n",
    "val p2 = Persona(\"tu\",35) \n",
    "p2.printMe() "
   ]
  },
  {
   "cell_type": "markdown",
   "metadata": {
    "datalore": {
     "hide_input_from_viewers": false,
     "hide_output_from_viewers": false,
     "node_id": "WaWXvPGvCj3ImqJTBAmoTo",
     "type": "MD"
    }
   },
   "source": [
    "Puedes comprobar modificando el ejemplo de arriba que los parámetros(variables sin indicar var/val) son realmente variables val, de forma que si queremos cambiar su valor dentro de la clase no es posible.\n",
    "\n",
    "Otra posiblilidad sintáctica consiste en  inicializar las propiedades con los parámetros justo en el momento de declarlos, en este caso no se puede usar this, al ir el nombre de la propiedad detrás de var no hay ambigüedad en el contexto de que es propiedad y que es parámetro. "
   ]
  },
  {
   "cell_type": "code",
   "execution_count": 1,
   "metadata": {
    "datalore": {
     "hide_input_from_viewers": false,
     "hide_output_from_viewers": false,
     "node_id": "UI0qTM5xzXBNR7KsrHOWzv",
     "type": "CODE"
    }
   },
   "outputs": [
    {
     "name": "stdout",
     "output_type": "stream",
     "text": [
      "yo 0\n",
      "tu 35\n"
     ]
    }
   ],
   "source": [
    "class Persona (nombre:String,edad:Int){\n",
    "   var nombre:String=nombre//no hay ambigüedad, no hace falta this (ni se puede indicar)\n",
    "   var edad:Int=edad//no hay ambigüedad, no hace falta this\n",
    "   init{\n",
    "      if(this.edad<0) this.edad=0\n",
    "   } \n",
    "    \n",
    "   fun printMe() {\n",
    "      println(nombre+ \" \" + edad)\n",
    "   }\n",
    "} \n",
    "val p1 = Persona(\"yo\",-15) \n",
    "p1.printMe() \n",
    "val p2 = Persona(\"tu\",35) \n",
    "p2.printMe() "
   ]
  },
  {
   "cell_type": "markdown",
   "metadata": {
    "datalore": {
     "hide_input_from_viewers": false,
     "hide_output_from_viewers": false,
     "node_id": "zThbeUR9ag050Y8zMCIxqt",
     "type": "MD"
    }
   },
   "source": [
    "## Constructores secundarios\n",
    "\n",
    "Recuerda que el constructor primario se declaraba en la cabecera de la clase con la palabra reservada *constructo*r(opcional en ciertas situaciones). Un constructor secundario también se declara con la palabra reservada *constructor* pero se hace dentro del cuerpo de la clase.\n",
    "\n",
    "En el siguiente ejemplo no hay constructor primario pero  hay un constructor secundario. "
   ]
  },
  {
   "cell_type": "code",
   "execution_count": 4,
   "metadata": {
    "datalore": {
     "hide_input_from_viewers": false,
     "hide_output_from_viewers": false,
     "node_id": "RBNPxOPRTBNaAksIi46LU3",
     "type": "CODE"
    }
   },
   "outputs": [
    {
     "name": "stdout",
     "output_type": "stream",
     "text": [
      "yo 15\n",
      "tu 35\n"
     ]
    }
   ],
   "source": [
    "class Persona{\n",
    "   var nombre:String\n",
    "   var edad:Int \n",
    "   \n",
    "   constructor(nombre:String, edad:Int){\n",
    "       this.nombre=nombre\n",
    "       this.edad=edad\n",
    "   } \n",
    "   \n",
    "  \n",
    "    \n",
    "   fun printMe() {\n",
    "      println(nombre+ \" \" + edad)\n",
    "   }\n",
    "} \n",
    "val p1 = Persona(\"yo\",15) \n",
    "p1.printMe() \n",
    "val p2 = Persona(\"tu\",35) \n",
    "p2.printMe() "
   ]
  },
  {
   "cell_type": "code",
   "execution_count": null,
   "metadata": {
    "datalore": {
     "hide_input_from_viewers": false,
     "hide_output_from_viewers": false,
     "node_id": "w9RX3BL1VG1bW48xoitGrn",
     "type": "CODE"
    }
   },
   "outputs": [],
   "source": []
  },
  {
   "cell_type": "markdown",
   "metadata": {
    "datalore": {
     "hide_input_from_viewers": false,
     "hide_output_from_viewers": false,
     "node_id": "83DJNpL7xK5DI4ZbqGgmvW",
     "type": "MD"
    }
   },
   "source": [
    "### Puede haber varios constructores secundarios\n",
    "es un efecto similar a la sobrecarga de funciones"
   ]
  },
  {
   "cell_type": "code",
   "execution_count": 5,
   "metadata": {
    "datalore": {
     "hide_input_from_viewers": false,
     "hide_output_from_viewers": false,
     "node_id": "ho0nzPf5pZ2P4AfYXiWtD0",
     "type": "CODE"
    }
   },
   "outputs": [
    {
     "name": "stdout",
     "output_type": "stream",
     "text": [
      "yo 15\n",
      "sin nombre 35\n"
     ]
    }
   ],
   "source": [
    "class Persona{\n",
    "   var nombre=\"sin nombre\"\n",
    "   var edad:Int \n",
    "   \n",
    "   constructor(edad:Int){\n",
    "       this.edad=edad\n",
    "   } \n",
    "   constructor(nombre:String, edad:Int){\n",
    "       this.nombre=nombre\n",
    "       this.edad=edad\n",
    "   } \n",
    "   \n",
    "  \n",
    "    \n",
    "   fun printMe() {\n",
    "      println(nombre+ \" \" + edad)\n",
    "   }\n",
    "} \n",
    "val p1 = Persona(\"yo\",15) \n",
    "p1.printMe() \n",
    "val p2 = Persona(35) \n",
    "p2.printMe() "
   ]
  },
  {
   "cell_type": "markdown",
   "metadata": {
    "datalore": {
     "hide_input_from_viewers": false,
     "hide_output_from_viewers": false,
     "node_id": "se5jArrExr0xSIg2DbUt7M",
     "type": "MD"
    }
   },
   "source": [
    "### puedem coexistir simultáneamente constructor primario con  secundarios\n",
    "En este caso es obligatorio usar la expresión *this* en la cabecera del secundario  para delegarle los parámetros que requiera."
   ]
  },
  {
   "cell_type": "code",
   "execution_count": 2,
   "metadata": {
    "datalore": {
     "hide_input_from_viewers": false,
     "hide_output_from_viewers": false,
     "node_id": "vgu8e5SoJppWRNr0gBo212",
     "type": "CODE"
    }
   },
   "outputs": [
    {
     "name": "stdout",
     "output_type": "stream",
     "text": [
      "yo 15\n",
      "tu 99\n"
     ]
    }
   ],
   "source": [
    "class Persona(var nombre:String){\n",
    "   var edad:Int\n",
    "   init{\n",
    "       edad=99\n",
    "   }\n",
    "   \n",
    "   constructor(nombre:String, edad:Int):this(nombre) {\n",
    "       \n",
    "       this.edad=edad\n",
    "   } \n",
    "   \n",
    "  \n",
    "    \n",
    "   fun printMe() {\n",
    "      println(nombre+ \" \" + edad)\n",
    "   }\n",
    "} \n",
    "val p1 = Persona(\"yo\",15) \n",
    "p1.printMe() \n",
    "val p2 = Persona(\"tu\") \n",
    "p2.printMe() "
   ]
  }
 ],
 "metadata": {
  "datalore": {
   "base_environment": "default",
   "computation_mode": "JUPYTER",
   "package_manager": "pip",
   "packages": [],
   "version": 1
  },
  "kernelspec": {
   "display_name": "Python 3 (ipykernel)",
   "language": "python",
   "name": "python3"
  },
  "language_info": {
   "codemirror_mode": {
    "name": "ipython",
    "version": 3
   },
   "file_extension": ".py",
   "mimetype": "text/x-python",
   "name": "python",
   "nbconvert_exporter": "python",
   "pygments_lexer": "ipython3",
   "version": "3.10.9"
  }
 },
 "nbformat": 4,
 "nbformat_minor": 4
}
