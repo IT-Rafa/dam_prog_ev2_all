{
 "cells": [
  {
   "cell_type": "markdown",
   "metadata": {
    "datalore": {
     "hide_input_from_viewers": false,
     "hide_output_from_viewers": false,
     "node_id": "S9Zoudq7EHhqsjZb7LHM4C",
     "type": "MD"
    }
   },
   "source": [
    "# Objetos y Clases\n",
    "En kotlin todo es un objeto, los datos Int realmente son objetos, las funciones son objetos, etc. Por lo tanto, ya estuvimos utilizando objetos, objetos que pertenecen a clases del sistema Kotlin. En este cuaderno nos introducimos al uso de objetos que son instancias de  clases escritas  por nosotros mismos. \n",
    "\n",
    "## Una primera visión de lo que es un objeto\n",
    "Los objetos almacenan datos usando para ello propiedades val/var y pueden contener en su interior definición de operaciones que probablemente utilizan los datos anteriores para hacer algo.\n",
    "\n",
    "## Algunas definiciones para ir arrancando:\n",
    "* Una clase: Define en su interior propiedades y funciones. A las clases también se les llama tipos datos definidos por el usuario. Así tenemos los tipos propios del lenguaje como Int y String y los que va definiendo en sus aplicaciones el usuario como la clase Coche, Persona etc..\n",
    "* Miembro: Una clase contiene en su interior miembros. Hay dos tipos principales de miembros a los que ya aludimos: propiedades y y funciones. \n",
    "* En kotlin una función se puede definir dentro de una clase o fuera de toda clase y según este criterio hay dos tipos de funciones\n",
    "    * funciones top-level. Las que se escriben directamente en el fichero \"al top level del fichero\" fuera de toda clase. \n",
    "    * funciones miembro. Se escriben dentro de una clase y su funcionamiento está ligado a un objeto específico de la clase.  \n",
    "* Crear un objeto: Hacer un val o var de una clase. A los objetos también se les llama instancia de una clase.\n",
    "  \n",
    "## DEFINICIÓN  DE UNA CLASE\n",
    "En general la fexibilidad de Kotlin redunda en multitud de posibilidades sintácticas para escribir lo mismo. Aquí recogemos sólo las posibilidades más fundamentales. \n",
    "\n",
    "Una clase es una plantilla o modelo que se utilizará para crear  objetos. Una clase de Kotlin se define usando la palabra clave *class*. El cuerpo de una clase puede contener  propiedades y/o funciones miembro.\n",
    "En otro cuaderno afinaremos el concepto de *propiedad (property)*. Como punto de partida podemos ver una propiedad como una  variable que pertenece a la clase.\n",
    "\n",
    "La declaración básica de un clase consta del nombre de la clase y el cuerpo de la clase rodeado de llaves. \n",
    "```\n",
    "class Persona{\n",
    "  var nombre = \"\"\n",
    "  var edad = 0\n",
    "  fun printMe() {\n",
    "      print(nombre+ \" \" + edad)\n",
    "   }\n",
    "} \n",
    "```\n",
    "Tanto el encabezado como el cuerpo son opcionales; si la clase no tiene cuerpo, se pueden omitir las llaves. La siguiente es una declaración válida de clase. Una clase vacia que se define sólo con la palabra reservada class seguida de un nombre.\n",
    "```\n",
    "class miClaseVacia\n",
    "```\n",
    "## CREACIÓN DE OBJETOS \n",
    "Los objetos se crean a partir una clase que funciona a modo de plantilla o molde. *\"El molde\"* describe propiedades y comportamientos.  Por lo tanto, todos los objetos de una clase  tendrán la misma estructura de  propiedades y comportamientos.\n",
    "\n",
    "La sintaxis más básica para crear un objeto de una clase es:\n",
    "\n",
    "```\n",
    "var varName = ClassName()\n",
    "```\n",
    "\n",
    "Podemos acceder a las propiedades y métodos de una clase usando el operador punto \".\" \n",
    "\n",
    "var varName = ClassName()\n",
    "\n",
    "varName.property = valor\n",
    "\n",
    "varName.functionName()\n",
    "\n",
    "En el siguiente  ejemplo creamos un objeto de la  clase Persona y utilizamos sus miembros con el operador .(punto)"
   ]
  },
  {
   "cell_type": "code",
   "execution_count": null,
   "metadata": {
    "datalore": {
     "hide_input_from_viewers": false,
     "hide_output_from_viewers": false,
     "node_id": "CsnhrhHLzAY5z824Z7V4kA",
     "type": "CODE"
    }
   },
   "outputs": [],
   "source": [
    "class Persona{\n",
    "  var nombre = \"\"\n",
    "  var edad = 0\n",
    "  fun printMe() {\n",
    "      print(nombre+ \" \" + edad)\n",
    "   }\n",
    "} \n",
    "val p = Persona() \n",
    "p.nombre=\"yo\"\n",
    "p.edad=14\n",
    "p.printMe() "
   ]
  },
  {
   "cell_type": "markdown",
   "metadata": {
    "datalore": {
     "hide_input_from_viewers": false,
     "hide_output_from_viewers": false,
     "node_id": "4wtdPlX0T8eLErs6fBTjvB",
     "type": "MD"
    }
   },
   "source": [
    "# La referencia this\n",
    "Es una variable especial que se utiliza para referenciar al propio objeto dentro del propio objeto. Se puede usar la variable this para referenciar a los miembros de un objeto desde dentro de ese objeto.\n",
    "El siguiente ejemplo es equivalente al anterior, la única diferencia es que desde printMe() para aludir a los propiedades también usamos la referencia this."
   ]
  },
  {
   "cell_type": "code",
   "execution_count": 1,
   "metadata": {
    "datalore": {
     "hide_input_from_viewers": false,
     "hide_output_from_viewers": false,
     "node_id": "bd87YUpnJ6HMGeLReA1Pae",
     "type": "CODE"
    }
   },
   "outputs": [
    {
     "name": "stdout",
     "output_type": "stream",
     "text": [
      "yo 14"
     ]
    }
   ],
   "source": [
    "class Persona{\n",
    "  var nombre = \"\"\n",
    "  var edad = 0\n",
    "  fun printMe() {\n",
    "      print(this.nombre+ \" \" + this.edad)\n",
    "   }\n",
    "} \n",
    "val p = Persona() \n",
    "p.nombre=\"yo\"\n",
    "p.edad=14\n",
    "p.printMe()"
   ]
  },
  {
   "cell_type": "markdown",
   "metadata": {
    "datalore": {
     "hide_input_from_viewers": false,
     "hide_output_from_viewers": false,
     "node_id": "TT7cqaX2k823PdAM3VbeJw",
     "type": "MD"
    }
   },
   "source": [
    "\n",
    "# Usar o no usar this\n",
    "Como observaste,  los dos últimos ejemplos son equivalentes., entonces, ¿se debe usar this o no?. Es una cuestión de estilo, no de compilación y en el caso del lenguaje Kotlin, cuando this no es necesario,  se prefiere no usarlo en aras de la limpieza y concisión.\n",
    "\n",
    "Y dicho esto, hay  diversas situaciones en que el uso de this es necesario y las iremos examinando a medida que lo requiramos."
   ]
  }
 ],
 "metadata": {
  "datalore": {
   "base_environment": "default",
   "computation_mode": "JUPYTER",
   "package_manager": "pip",
   "packages": [],
   "version": 1
  },
  "kernelspec": {
   "display_name": "Python 3 (ipykernel)",
   "language": "python",
   "name": "python3"
  },
  "language_info": {
   "codemirror_mode": {
    "name": "ipython",
    "version": 3
   },
   "file_extension": ".py",
   "mimetype": "text/x-python",
   "name": "python",
   "nbconvert_exporter": "python",
   "pygments_lexer": "ipython3",
   "version": "3.10.9"
  }
 },
 "nbformat": 4,
 "nbformat_minor": 4
}
